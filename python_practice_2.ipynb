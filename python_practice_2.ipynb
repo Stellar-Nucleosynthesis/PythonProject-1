{
  "metadata": {
    "kernelspec": {
      "name": "python",
      "display_name": "Python (Pyodide)",
      "language": "python"
    },
    "language_info": {
      "codemirror_mode": {
        "name": "python",
        "version": 3
      },
      "file_extension": ".py",
      "mimetype": "text/x-python",
      "name": "python",
      "nbconvert_exporter": "python",
      "pygments_lexer": "ipython3",
      "version": "3.8"
    },
    "colab": {
      "provenance": []
    }
  },
  "nbformat_minor": 4,
  "nbformat": 4,
  "cells": [
    {
      "cell_type": "markdown",
      "source": "# I. Змінні та памʼять.",
      "metadata": {
        "id": "p9wwt0LZzNvn"
      }
    },
    {
      "cell_type": "markdown",
      "source": "1. Створити змінні, що посилаються на два цілих числа, що однакові за значенням, де значення належить проміжку від -5 до 256. Перевірте, чи будуть ці змінні рівні тільки за значенням або ж ще будуть посилатися на один і той самий обʼєкт в памʼяті? Наведіть код та дайте текстову відповідь нижче.",
      "metadata": {
        "id": "HTJrrm95xSV9"
      }
    },
    {
      "cell_type": "code",
      "source": "x = 128\ny = 128\nprint(x is y)\n\nx = 700\ny = 700\nprint(x is y)",
      "metadata": {
        "id": "TATni2vzayjG",
        "trusted": true
      },
      "outputs": [
        {
          "name": "stdout",
          "output_type": "stream",
          "text": "True\nFalse\n"
        }
      ],
      "execution_count": 25
    },
    {
      "cell_type": "markdown",
      "source": "Змінні не лише рівні за значенням, а й вказують на одну комірку пам'яті. Це оптимізація, спрямована на те, щоб в пам'яті не було багато копій одного цілочисельного значення.",
      "metadata": {
        "id": "zfRG_o3WbRdg"
      }
    },
    {
      "cell_type": "markdown",
      "source": "2. За допомогою якої функції можна перевірити належність змінної до вказаного типу даних (напр. чи змінна True посилається на значення булевого та цілочисленого типу)?",
      "metadata": {
        "id": "ISORzt6M3vAt"
      }
    },
    {
      "cell_type": "code",
      "source": "bool_var = True\nprint(type(bool_var))\nint_var = 80\nprint(type(int_var))",
      "metadata": {
        "id": "9vL9CFaMbfyo",
        "trusted": true
      },
      "outputs": [
        {
          "name": "stdout",
          "output_type": "stream",
          "text": "<class 'bool'>\n<class 'int'>\n"
        }
      ],
      "execution_count": 119
    },
    {
      "cell_type": "markdown",
      "source": "# II. Цілі числа та числа з рухомою комою",
      "metadata": {
        "id": "tRxugKAxwYLw"
      }
    },
    {
      "cell_type": "markdown",
      "source": "3. Створити дві змінні, що посилаються на будь-які ціле число та число з рухомою комою та продемонструвати такі арифметичні операції: додавання, віднімання, ділення, множення, ділення без залишку, ділення по модулю, приведення до ступеню. Всі результати операцій вивести на екран.",
      "metadata": {
        "id": "NLHkgd5Gybc8"
      }
    },
    {
      "cell_type": "code",
      "source": "a = 60\nb = 13.5\nprint(a + b)\nprint(a - b)\nprint(a / b)\nprint(a // b)\nprint(a % b)\nprint(a * b)\nprint(a ** b)",
      "metadata": {
        "id": "nb8u_3pjb2cA",
        "trusted": true
      },
      "outputs": [
        {
          "name": "stdout",
          "output_type": "stream",
          "text": "73.5\n46.5\n4.444444444444445\n4.0\n6.0\n810.0\n1.0116770082775774e+24\n"
        }
      ],
      "execution_count": 135
    },
    {
      "cell_type": "markdown",
      "source": "4. Використовуючи змінні з вправи 3, продемонструйте механізм явного перетворення типів, де числа з рухомою комою перетворюються на цілі числа. Також визначте змінну, що посилається на значення булевого типу і спробуйте явно привести її до цілого числа.",
      "metadata": {
        "id": "1kBClKgPzZnC"
      }
    },
    {
      "cell_type": "code",
      "source": "print(b)\nprint(int(b))\n\nbool_var = False\nprint(int(bool_var))\nbool_var = True\nprint(int(bool_var))",
      "metadata": {
        "id": "TbqJbkeUcKsD",
        "trusted": true
      },
      "outputs": [
        {
          "name": "stdout",
          "output_type": "stream",
          "text": "13.5\n13\n0\n1\n"
        }
      ],
      "execution_count": 136
    },
    {
      "cell_type": "markdown",
      "source": "# IІІ. Рядки (String).",
      "metadata": {
        "id": "EVJ7AflwxrZi"
      }
    },
    {
      "cell_type": "markdown",
      "source": "5. Створити пустий рядок двома різними способами.",
      "metadata": {
        "id": "_s5ECzz9zE61"
      }
    },
    {
      "cell_type": "code",
      "source": "str1 = \"\"\nstr2 = '' #Does it count?\nstr3 = str1[2:1] #In case it doesn't\nstr4 = str() #For good measure\n\nprint(\"str1: \", str1)\nprint(\"str2: \", str2)\nprint(\"str3: \", str3)\nprint(\"str4: \", str4)",
      "metadata": {
        "id": "fkZJHu9Scvc-",
        "trusted": true
      },
      "outputs": [
        {
          "name": "stdout",
          "output_type": "stream",
          "text": "str1:  \nstr2:  \nstr3:  \nstr4:  \n"
        }
      ],
      "execution_count": 39
    },
    {
      "cell_type": "markdown",
      "source": "6. Створити рядок з апострофом. Зробити його сирим. Вивести обидва рядка на екран.",
      "metadata": {
        "id": "4Bdn9J3MzLf_"
      }
    },
    {
      "cell_type": "code",
      "source": "s = \"a'a\"\nprint(s)\ns = r'' + s\nprint(s)",
      "metadata": {
        "id": "ivji_hsmc0GH",
        "trusted": true
      },
      "outputs": [
        {
          "name": "stdout",
          "output_type": "stream",
          "text": "a'a\na'a\n"
        }
      ],
      "execution_count": 138
    },
    {
      "cell_type": "markdown",
      "source": "7. Створити змінну, що буде посилатися на Ваше прізвище латинкою. Створити форматований рядок, який буде мати вигляд \"My surname is ______\", де на місці нижніх підкреслень буде Ваше прізвище зі змінної.",
      "metadata": {
        "id": "bg_d8wM4z8dS"
      }
    },
    {
      "cell_type": "code",
      "source": "surname = \"Stepanenko\"\nformat_str = \"My surname is {}\".format(surname)\nprint(format_str)",
      "metadata": {
        "id": "kuxFgpWndACq",
        "trusted": true
      },
      "outputs": [
        {
          "name": "stdout",
          "output_type": "stream",
          "text": "My surname is Stepanenko\n"
        }
      ],
      "execution_count": 139
    },
    {
      "cell_type": "markdown",
      "source": "8. Маючи рядок \"My dog is crazy.\" перетворити його на список [\"my\", \"dog\", \"is\", \"crazy\"]",
      "metadata": {
        "id": "1Nc6RqvQ0hxU"
      }
    },
    {
      "cell_type": "code",
      "source": "weird_string = \"My dog is crazy.\"\nres = weird_string.replace('.', '').lower().split(' ')\nprint(res)",
      "metadata": {
        "id": "w1Ya4RqedUhw",
        "trusted": true
      },
      "outputs": [
        {
          "name": "stdout",
          "output_type": "stream",
          "text": "['my', 'dog', 'is', 'crazy']\n"
        }
      ],
      "execution_count": 140
    },
    {
      "cell_type": "markdown",
      "source": "# IV. Робота зі списками.",
      "metadata": {
        "id": "GYVqN9uP1D4n"
      }
    },
    {
      "cell_type": "markdown",
      "source": "9. Створити список двома різними за синтаксисом способами. За допомогою вбудованої функції обчисліть довжину одного з них.",
      "metadata": {
        "id": "7-DeDunw2sO-"
      }
    },
    {
      "cell_type": "code",
      "source": "list1 = ['a', 'b', 'c']\nlist2 = list('cba')\n\nprint(list1, \"; length:\", len(list1))\nprint(list2)",
      "metadata": {
        "id": "zxg06Uuxdyoh",
        "trusted": true
      },
      "outputs": [
        {
          "name": "stdout",
          "output_type": "stream",
          "text": "['a', 'b', 'c'] ; length: 3\n['c', 'b', 'a']\n"
        }
      ],
      "execution_count": 141
    },
    {
      "cell_type": "markdown",
      "source": "10. Створіть два списка та за допомогою спеціального методу додайте другий з них в якості останнього елемента першого.",
      "metadata": {
        "id": "8vmGUTjL22gI"
      }
    },
    {
      "cell_type": "code",
      "source": "l1 = [1, 2, 3]\nl2 = [4, 5, 6]\nl1.append(l2)\n\nprint(l1)",
      "metadata": {
        "id": "uHtjWYw7d7hm",
        "trusted": true
      },
      "outputs": [
        {
          "name": "stdout",
          "output_type": "stream",
          "text": "[1, 2, 3, [4, 5, 6]]\n"
        }
      ],
      "execution_count": 142
    },
    {
      "cell_type": "markdown",
      "source": "11. Створіть список, де елементами цього списку також є списки. Отримай перший елемент з останнього рядка та виведи значення на екран.",
      "metadata": {
        "id": "JC3BkD-67_--"
      }
    },
    {
      "cell_type": "code",
      "source": "matrix = [[1, 2, 3], \n          [4, 5, 6],\n          [7, 8, 9]]\nprint(matrix[-1][0])",
      "metadata": {
        "id": "Kz2jZHsGeLlz",
        "trusted": true
      },
      "outputs": [
        {
          "name": "stdout",
          "output_type": "stream",
          "text": "7\n"
        }
      ],
      "execution_count": 143
    },
    {
      "cell_type": "markdown",
      "source": "12. Створіть список з десяти елементів різного типу. Отримайте всі елементи, окрім двох перших та двох останніх та збережіть їх в новій змінній.",
      "metadata": {
        "id": "JA47PKTv8zFK"
      }
    },
    {
      "cell_type": "code",
      "source": "diverse_list = [1, \"abc\", 2.0, 1+3j, True, [4, 7], (2, 8, 1), {'cat':1, 'dog':2}, {3, 4}, range(0, 10)]\nprint(diverse_list)\nreduced_list = diverse_list[2:-2]\nprint(reduced_list)",
      "metadata": {
        "id": "_rHdUR-ueP4-",
        "trusted": true
      },
      "outputs": [
        {
          "name": "stdout",
          "output_type": "stream",
          "text": "[1, 'abc', 2.0, (1+3j), True, [4, 7], (2, 8, 1), {'cat': 1, 'dog': 2}, {3, 4}, range(0, 10)]\n[2.0, (1+3j), True, [4, 7], (2, 8, 1), {'cat': 1, 'dog': 2}]\n"
        }
      ],
      "execution_count": 144
    },
    {
      "cell_type": "markdown",
      "source": "# V. Робота з кортежами.",
      "metadata": {
        "id": "pCjR1dJb1Qbi"
      }
    },
    {
      "cell_type": "markdown",
      "source": "14. Створити кортеж з один елементом.",
      "metadata": {
        "id": "fAZCxAX06R_k"
      }
    },
    {
      "cell_type": "code",
      "source": "tup = 1,\nprint(tup)",
      "metadata": {
        "id": "H7d82WkQev3e",
        "trusted": true
      },
      "outputs": [
        {
          "name": "stdout",
          "output_type": "stream",
          "text": "(1,)\n"
        }
      ],
      "execution_count": 145
    },
    {
      "cell_type": "markdown",
      "source": "15. Порівняйте список та кортеж. Назвіть схожості та відмінності, випадки використання.",
      "metadata": {
        "id": "8LCtYcmI6w1M"
      }
    },
    {
      "cell_type": "markdown",
      "source": "Кортежі - immutable, списки - mutable, тобто \"змінити\" кортеж можна, лише створивши новий кортеж. І списки, і кортежі дозволяють зберігати елементи різних типів, і до них обох можна використовувати індексування, слайсинг, та інші стандартні операції. Загалом - обидві структури даних використовуються для зберігання наборів елементів, але кортежі бажано використовувати тоді, коли треба бути абсолютно впевненим в тому, що в процесі виконання програми структура даних не зміниться.",
      "metadata": {
        "id": "fUsN1Hnue0C6"
      }
    },
    {
      "cell_type": "markdown",
      "source": "16. Створіть кортеж з 11ти елементів чисел з рухомою комою та отримайте кожен парний за індексом елемент в зворотньому порядку. Наприклад, маючи (1.2, 2.3, 3.3, 4.3, 5.3, 6.3, 7.3, 8.3, 9.3, 0.3), отримати (0.3, 8.3, 6.3, 4.3, 2.3). Результат збережіть в нову змінну та виведіть на екран.",
      "metadata": {
        "id": "m0xrwFijAmDD"
      }
    },
    {
      "cell_type": "code",
      "source": "tup = (6.8, 1.2, 2.3, 3.3, 4.3, 5.3, 6.3, 7.3, 8.3, 9.3, 0.3)\nnew_tup = tup[::-1][::2]\nprint(new_tup)",
      "metadata": {
        "id": "p-5DAH6XfAGA",
        "trusted": true
      },
      "outputs": [
        {
          "name": "stdout",
          "output_type": "stream",
          "text": "(0.3, 8.3, 6.3, 4.3, 2.3, 6.8)\n"
        }
      ],
      "execution_count": 146
    },
    {
      "cell_type": "markdown",
      "source": "# VI. Множини (Set).",
      "metadata": {
        "id": "rW_I9dt3x6cW"
      }
    },
    {
      "cell_type": "markdown",
      "source": "17. Створити множину без елементів. Після цого за допомогою методу додайте кілька різних елементів до множини. Чи множини є змінним типом даних?",
      "metadata": {
        "id": "zNjRLHLw1Bgg"
      }
    },
    {
      "cell_type": "code",
      "source": "s1 = set()\nprint(id(s1))\ns1.add(2)\nprint(id(s1))\ns1.add('abc')\nprint(id(s1))",
      "metadata": {
        "id": "KOv7zc2Kfo4N",
        "trusted": true
      },
      "outputs": [
        {
          "name": "stdout",
          "output_type": "stream",
          "text": "37159504\n37159504\n37159504\n"
        }
      ],
      "execution_count": 147
    },
    {
      "cell_type": "markdown",
      "source": "Множина - зміний тип даних, що видно з виводу коду вище (після додання елементів id змінної не змінився).",
      "metadata": {
        "id": "vxS6dVYiftZQ"
      }
    },
    {
      "cell_type": "markdown",
      "source": "18. Створити множину, маючи список my_list = [1, 1, 2, 67, 67, 8, 9]. Пояснити, чому \"зникли\" деякі елементи.",
      "metadata": {
        "id": "gHpT0Zw_1HEF"
      }
    },
    {
      "cell_type": "code",
      "source": "my_list = [1, 1, 2, 67, 67, 8, 9]\nmy_set = set(my_list)\nprint(my_list)\nprint(my_set)",
      "metadata": {
        "id": "qCN4uvJ_fxmu",
        "trusted": true
      },
      "outputs": [
        {
          "name": "stdout",
          "output_type": "stream",
          "text": "[1, 1, 2, 67, 67, 8, 9]\n{1, 2, 67, 8, 9}\n"
        }
      ],
      "execution_count": 148
    },
    {
      "cell_type": "markdown",
      "source": "Set виключає наявність дублікатів елементів, тому після додання в my_set всіх елементів списку ті, що зустрічалися повторно, не додалися.",
      "metadata": {
        "id": "tFNc1e20fyny"
      }
    },
    {
      "cell_type": "markdown",
      "source": "19. Створіть дві множини. Продемонстуйте над ними операції: обʼєднання, різниці, пересічі та симетричної різниці. Використовуйте методи, що не змінюють множини, а створюють нові.",
      "metadata": {
        "id": "SRMkGizS1UwY"
      }
    },
    {
      "cell_type": "code",
      "source": "set1 = {1, 2, 3, 4, 5}\nset2 = {3, 4, 5, 6, 7}\nprint(set1 | set2)\nprint(set1 - set2)\nprint(set1 & set2)\nprint(set1 ^ set2)",
      "metadata": {
        "id": "h0T-VuDnf3Ri",
        "trusted": true
      },
      "outputs": [
        {
          "name": "stdout",
          "output_type": "stream",
          "text": "{1, 2, 3, 4, 5, 6, 7}\n{1, 2}\n{3, 4, 5}\n{1, 2, 6, 7}\n"
        }
      ],
      "execution_count": 149
    },
    {
      "cell_type": "markdown",
      "source": "# VII. Словники (Dictionary).",
      "metadata": {
        "id": "kWc8gkzTx7Ea"
      }
    },
    {
      "cell_type": "markdown",
      "source": "20. Створіть пустий словник. До нього додайте чотири пари елементів такі, щоб їхні ключі були різних типів. Чи може список бути ключем? Чому?",
      "metadata": {
        "id": "i5FLwj-B2ybQ"
      }
    },
    {
      "cell_type": "code",
      "source": "dictionary = {}\ndictionary[1] = 4.0\ndictionary['dog'] = ['d', 'o', 'g']\ndictionary[(1, 2, 3)] = 3\ndictionary[3+4j] = {4, 10, 3}\nprint(dictionary)",
      "metadata": {
        "id": "hxgv3BzrgLAV",
        "trusted": true
      },
      "outputs": [
        {
          "name": "stdout",
          "output_type": "stream",
          "text": "{1: 4.0, 'dog': ['d', 'o', 'g'], (1, 2, 3): 3, (3+4j): {10, 3, 4}}\n"
        }
      ],
      "execution_count": 151
    },
    {
      "cell_type": "markdown",
      "source": "Список не може бути ключем тому, що списки неможливо хешувати.",
      "metadata": {
        "id": "zwa7UVN-gR3m"
      }
    },
    {
      "cell_type": "markdown",
      "source": "21. Створіть словник, де значенням в одній з пар теж буде словник, який теж має вкладений словник. Виведіть на екран значення, що міститься в словнику, що знаходиться на найнижчому рівні ієрархії вкладеності (найбільш внутрішній).",
      "metadata": {
        "id": "WM_pMlJsgoNf"
      }
    },
    {
      "cell_type": "code",
      "source": "dictiooonary = {1:{\"foo\":{2.0:[5, 3]}}}\nprint(dictiooonary[1][\"foo\"][2.0])",
      "metadata": {
        "id": "60dlP7IHhAy4",
        "trusted": true
      },
      "outputs": [
        {
          "name": "stdout",
          "output_type": "stream",
          "text": "[5, 3]\n"
        }
      ],
      "execution_count": 134
    },
    {
      "cell_type": "markdown",
      "source": "# Вітаю! Ви велика(ий) молодець, що впоралась(вся). Похваліть себе та побалуйте чимось приємним. Я Вами пишаюся.",
      "metadata": {
        "id": "xOZP0hkx6cCr"
      }
    }
  ]
}